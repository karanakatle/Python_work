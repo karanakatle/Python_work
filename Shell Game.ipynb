{
 "cells": [
  {
   "cell_type": "code",
   "execution_count": 1,
   "metadata": {},
   "outputs": [],
   "source": [
    "from random import shuffle"
   ]
  },
  {
   "cell_type": "code",
   "execution_count": 2,
   "metadata": {},
   "outputs": [],
   "source": [
    "import random"
   ]
  },
  {
   "cell_type": "code",
   "execution_count": 3,
   "metadata": {},
   "outputs": [],
   "source": [
    "mylist=[' ',' ',' ',' ',' ']"
   ]
  },
  {
   "cell_type": "code",
   "execution_count": 4,
   "metadata": {},
   "outputs": [],
   "source": [
    "def display_list(mylist,marker):\n",
    "            \n",
    "    rand_pos=random.randint(0,4)\n",
    "    \n",
    "    mylist[rand_pos]=marker\n",
    "    \n",
    "    return mylist"
   ]
  },
  {
   "cell_type": "code",
   "execution_count": 5,
   "metadata": {},
   "outputs": [
    {
     "data": {
      "text/plain": [
       "[' ', ' ', ' ', 'X', ' ']"
      ]
     },
     "execution_count": 5,
     "metadata": {},
     "output_type": "execute_result"
    }
   ],
   "source": [
    "display_list(mylist,'X')"
   ]
  },
  {
   "cell_type": "code",
   "execution_count": 6,
   "metadata": {},
   "outputs": [],
   "source": [
    "def player_guess():\n",
    "    \n",
    "    position='Wrong'\n",
    "    \n",
    "    acceptible_range=range(0,5)\n",
    "    \n",
    "    within_range=False\n",
    "    \n",
    "    while position.isdigit()==False or within_range==False:\n",
    "    \n",
    "        position=input(\"Please choose the the option between 0 to 4: \")\n",
    "        \n",
    "        if position.isdigit()==False:\n",
    "            print('Sorry, invalid format!')\n",
    "        else:\n",
    "            if int(position) not in acceptible_range:\n",
    "                print('Sorry, invalid choice!')\n",
    "            else:\n",
    "                within_range=True\n",
    "                \n",
    "    return int(position)"
   ]
  },
  {
   "cell_type": "code",
   "execution_count": 7,
   "metadata": {},
   "outputs": [
    {
     "name": "stdout",
     "output_type": "stream",
     "text": [
      "Please choose the the option between 0 to 4: 2\n"
     ]
    },
    {
     "data": {
      "text/plain": [
       "2"
      ]
     },
     "execution_count": 7,
     "metadata": {},
     "output_type": "execute_result"
    }
   ],
   "source": [
    "player_guess()"
   ]
  },
  {
   "cell_type": "code",
   "execution_count": 13,
   "metadata": {},
   "outputs": [],
   "source": [
    "def game_on():\n",
    "    \n",
    "    return (input(\"Are you ready to play the game? Enter yes or no. : \")).upper().startswith('Y')"
   ]
  },
  {
   "cell_type": "code",
   "execution_count": 9,
   "metadata": {},
   "outputs": [
    {
     "name": "stdout",
     "output_type": "stream",
     "text": [
      "Are you ready to play the game? Enter yes or no. :no\n"
     ]
    },
    {
     "data": {
      "text/plain": [
       "False"
      ]
     },
     "execution_count": 9,
     "metadata": {},
     "output_type": "execute_result"
    }
   ],
   "source": [
    "game_on()"
   ]
  },
  {
   "cell_type": "code",
   "execution_count": 10,
   "metadata": {},
   "outputs": [],
   "source": [
    "def select_marker():\n",
    "    \n",
    "    marker=''\n",
    "    \n",
    "    while marker!='X' and marker!='O':\n",
    "        \n",
    "        marker=input('Please select your marker (X or O): ').upper()\n",
    "        \n",
    "        if marker!='X' and marker!='O':\n",
    "            print('Sorry, invalid selection!')\n",
    "            \n",
    "    return marker"
   ]
  },
  {
   "cell_type": "code",
   "execution_count": 11,
   "metadata": {},
   "outputs": [
    {
     "name": "stdout",
     "output_type": "stream",
     "text": [
      "Please select your marker (X or O): o\n"
     ]
    },
    {
     "data": {
      "text/plain": [
       "'O'"
      ]
     },
     "execution_count": 11,
     "metadata": {},
     "output_type": "execute_result"
    }
   ],
   "source": [
    "select_marker()"
   ]
  },
  {
   "cell_type": "code",
   "execution_count": 21,
   "metadata": {},
   "outputs": [
    {
     "name": "stdout",
     "output_type": "stream",
     "text": [
      "Welcome to Shell Game!!!\n",
      "Please select your marker (X or O): o\n",
      "You have selecte O as your mark!\n",
      "Are you ready to play the game? Enter yes or no. : yes\n",
      "Please choose the the option between 0 to 4: 0\n",
      "Sorry, wrong answer!\n",
      "[' ', ' ', 'O', ' ', ' ']\n",
      "Please choose the the option between 0 to 4: 2\n",
      "Congratulations! you won\n",
      "[' ', ' ', 'O', ' ', ' ']\n",
      "Thank you!\n"
     ]
    }
   ],
   "source": [
    "print('Welcome to Shell Game!!!')\n",
    "\n",
    "marker=select_marker()\n",
    "\n",
    "print('You have selecte '+marker+' as your mark!')\n",
    "\n",
    "mylist=[' ']*5\n",
    "\n",
    "display_list(mylist,marker)\n",
    "\n",
    "gameon=game_on()\n",
    "\n",
    "count=0\n",
    "\n",
    "while gameon:\n",
    "    \n",
    "    position=player_guess()\n",
    "    \n",
    "    shuffle(mylist)\n",
    "    \n",
    "    if mylist[position]==marker:\n",
    "        \n",
    "        print('Congratulations! you won')\n",
    "        \n",
    "        print(mylist)\n",
    "        \n",
    "        gameon=False\n",
    "    \n",
    "    else:\n",
    "        \n",
    "        print('Sorry, wrong answer!')\n",
    "        \n",
    "        print(mylist)\n",
    "        \n",
    "        count+=1\n",
    "        \n",
    "        if count==10:\n",
    "            \n",
    "            print('You have exceed max limit of attempts. Last 5 chance!')\n",
    "            \n",
    "            playon=input('Still want to continue to play game? Enter yes or no : ').upper()\n",
    "            \n",
    "            if playon.startswith('Y'):\n",
    "                \n",
    "                gameon=True\n",
    "                \n",
    "                count+=1\n",
    "                \n",
    "                if count==15:\n",
    "                    \n",
    "                    print('Sorry, max. attempts exceed, better luck next time. Thank you!')\n",
    "                    \n",
    "                    print(mylist)\n",
    "                \n",
    "                else:\n",
    "                    \n",
    "                    pass\n",
    "                \n",
    "            else:\n",
    "                \n",
    "                gameon=False\n",
    "                \n",
    "                print('Thank you!')\n",
    "            \n",
    "else:\n",
    "                \n",
    "    gameon=False\n",
    "                \n",
    "    print('Thank you!')"
   ]
  },
  {
   "cell_type": "code",
   "execution_count": null,
   "metadata": {},
   "outputs": [],
   "source": []
  }
 ],
 "metadata": {
  "kernelspec": {
   "display_name": "Python 3",
   "language": "python",
   "name": "python3"
  },
  "language_info": {
   "codemirror_mode": {
    "name": "ipython",
    "version": 3
   },
   "file_extension": ".py",
   "mimetype": "text/x-python",
   "name": "python",
   "nbconvert_exporter": "python",
   "pygments_lexer": "ipython3",
   "version": "3.7.6"
  }
 },
 "nbformat": 4,
 "nbformat_minor": 4
}
