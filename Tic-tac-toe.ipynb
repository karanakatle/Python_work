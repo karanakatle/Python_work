{
 "cells": [
  {
   "cell_type": "code",
   "execution_count": 1,
   "metadata": {},
   "outputs": [],
   "source": [
    "from IPython.display import clear_output\n",
    "\n",
    "def display_board(board):\n",
    "    clear_output()\n",
    "    \n",
    "    \n",
    "    print('      |    '+'    |      ')\n",
    "    print('  '+board[7]+'   |    '+board[8]+'   |   '+board[9]+'  ')\n",
    "    print('      |    '+'    |      ')\n",
    "    print('----------------------')\n",
    "    print('      |    '+'    |      ')\n",
    "    print('  '+board[4]+'   |    '+board[5]+'   |   '+board[6]+'  ')\n",
    "    print('      |    '+'    |      ')\n",
    "    print('----------------------')\n",
    "    print('      |    '+'    |      ')\n",
    "    print('  '+board[1]+'   |    '+board[2]+'   |   '+board[3]+'  ')\n",
    "    print('      |    '+'    |      ')"
   ]
  },
  {
   "cell_type": "code",
   "execution_count": 2,
   "metadata": {},
   "outputs": [
    {
     "name": "stdout",
     "output_type": "stream",
     "text": [
      "      |        |      \n",
      "  X   |    O   |   X  \n",
      "      |        |      \n",
      "----------------------\n",
      "      |        |      \n",
      "  O   |    X   |   O  \n",
      "      |        |      \n",
      "----------------------\n",
      "      |        |      \n",
      "  X   |    O   |   X  \n",
      "      |        |      \n"
     ]
    }
   ],
   "source": [
    "test_board = ['#','X','O','X','O','X','O','X','O','X']\n",
    "display_board(test_board)"
   ]
  },
  {
   "cell_type": "code",
   "execution_count": 3,
   "metadata": {},
   "outputs": [],
   "source": [
    "def player_input():\n",
    "    \n",
    "    marker=''\n",
    "    \n",
    "    while marker not in ['X','O']:\n",
    "        \n",
    "        marker=input('Player1: Choose the marker (X or O): ').upper()\n",
    "                    \n",
    "        if marker.startswith('X'):\n",
    "                \n",
    "            return ('X','O')\n",
    "            \n",
    "        else:\n",
    "                \n",
    "            return ('O','X')"
   ]
  },
  {
   "cell_type": "code",
   "execution_count": 4,
   "metadata": {},
   "outputs": [],
   "source": [
    "def place_marker(board, marker, position):\n",
    "    \n",
    "    board[position]=marker"
   ]
  },
  {
   "cell_type": "code",
   "execution_count": 5,
   "metadata": {},
   "outputs": [
    {
     "name": "stdout",
     "output_type": "stream",
     "text": [
      "      |        |      \n",
      "  X   |    $   |   X  \n",
      "      |        |      \n",
      "----------------------\n",
      "      |        |      \n",
      "  O   |    X   |   O  \n",
      "      |        |      \n",
      "----------------------\n",
      "      |        |      \n",
      "  X   |    O   |   X  \n",
      "      |        |      \n"
     ]
    }
   ],
   "source": [
    "place_marker(test_board,'$',8)\n",
    "display_board(test_board)"
   ]
  },
  {
   "cell_type": "code",
   "execution_count": 6,
   "metadata": {},
   "outputs": [],
   "source": [
    "def win_check(board, mark):\n",
    "    \n",
    "    \n",
    "    return((board[1]==board[2]==board[3]==mark) or\n",
    "    (board[4]==board[5]==board[6]==mark) or\n",
    "    (board[7]==board[8]==board[9]==mark) or\n",
    "    (board[1]==board[5]==board[9]==mark) or\n",
    "    (board[7]==board[5]==board[3]==mark) or\n",
    "    (board[1]==board[4]==board[7]==mark) or\n",
    "    (board[2]==board[5]==board[8]==mark) or\n",
    "    (board[3]==board[6]==board[9]==mark))"
   ]
  },
  {
   "cell_type": "code",
   "execution_count": 7,
   "metadata": {},
   "outputs": [],
   "source": [
    "import random\n",
    "\n",
    "def choose_first():\n",
    "    \n",
    "    \n",
    "    if random.randint(0,1)==0:\n",
    "        \n",
    "        return 'Player 2'\n",
    "    \n",
    "    else:\n",
    "        \n",
    "        return 'Player 1'"
   ]
  },
  {
   "cell_type": "code",
   "execution_count": 8,
   "metadata": {},
   "outputs": [],
   "source": [
    "turn=choose_first()"
   ]
  },
  {
   "cell_type": "code",
   "execution_count": 9,
   "metadata": {},
   "outputs": [],
   "source": [
    "def space_check(board, position):\n",
    "    \n",
    "    return (board[position]==' ')"
   ]
  },
  {
   "cell_type": "code",
   "execution_count": 10,
   "metadata": {},
   "outputs": [],
   "source": [
    "def player_choice(board):\n",
    "    \n",
    "    position=0\n",
    "            \n",
    "    while position not in range(1,10) or not space_check(board,position):\n",
    "        \n",
    "        position=int(input(turn+': Choose the position no. between 1 to 9: '))\n",
    "        \n",
    "        if position not in range(1,10):\n",
    "            \n",
    "            print('Invalid choice')\n",
    "    \n",
    "    return position"
   ]
  },
  {
   "cell_type": "code",
   "execution_count": 11,
   "metadata": {},
   "outputs": [],
   "source": [
    "def full_board_check(board):\n",
    "    \n",
    "    for i in range(1,10):\n",
    "        \n",
    "        if space_check(board,i):\n",
    "            return False\n",
    "        \n",
    "    return True"
   ]
  },
  {
   "cell_type": "code",
   "execution_count": 12,
   "metadata": {},
   "outputs": [],
   "source": [
    "def replay():\n",
    "    \n",
    "    playon=''\n",
    "    \n",
    "    while playon not in ['Y','N']:\n",
    "    \n",
    "        playon=input('Do you want to play again? Yes or No : ').upper()\n",
    "    \n",
    "        if playon.startswith('Y'):\n",
    "        \n",
    "            return True\n",
    "    \n",
    "        elif playon.startswith('N'):\n",
    "        \n",
    "            return False\n",
    "    \n",
    "        else:\n",
    "        \n",
    "            print('Invalid Input')"
   ]
  },
  {
   "cell_type": "code",
   "execution_count": 13,
   "metadata": {},
   "outputs": [
    {
     "name": "stdout",
     "output_type": "stream",
     "text": [
      "      |        |      \n",
      "  X   |    O   |      \n",
      "      |        |      \n",
      "----------------------\n",
      "      |        |      \n",
      "      |    O   |      \n",
      "      |        |      \n",
      "----------------------\n",
      "      |        |      \n",
      "      |    O   |   X  \n",
      "      |        |      \n",
      "Congratulations, Player2 won the game!\n",
      "Do you want to play again? Yes or No : no\n",
      "Thank you for playing!\n"
     ]
    }
   ],
   "source": [
    "print('Welcome to Tic Tac Toe!')\n",
    "\n",
    "while True:\n",
    "    \n",
    "    board=[' ']*10\n",
    "    \n",
    "    player1_marker,player2_marker=player_input()\n",
    "    \n",
    "    turn=choose_first()\n",
    "    \n",
    "    print(turn+' will go first.')\n",
    "        \n",
    "    game_on=input('Are you ready to play the game? Yes or No: ').upper()\n",
    "    \n",
    "    if game_on[0]=='Y':\n",
    "        \n",
    "        game_on=True\n",
    "        \n",
    "    else:\n",
    "        \n",
    "        break\n",
    "\n",
    "    while game_on:\n",
    "        \n",
    "        if turn=='Player 1':\n",
    "            \n",
    "            display_board(board)\n",
    "                        \n",
    "            position=player_choice(board)\n",
    "            \n",
    "            place_marker(board, player1_marker, position)\n",
    "                        \n",
    "            if win_check(board,player1_marker):\n",
    "                \n",
    "                display_board(board)\n",
    "                \n",
    "                print('Congratulations, Player1 won the game!')\n",
    "                \n",
    "                game_on=False\n",
    "            \n",
    "            else:\n",
    "                \n",
    "                if full_board_check(board):\n",
    "                    \n",
    "                    display_board(board)\n",
    "                    \n",
    "                    print('The match is draw!')\n",
    "                    \n",
    "                    game_on=False\n",
    "                    \n",
    "                else:\n",
    "                    \n",
    "                    turn='Player 2'\n",
    "            \n",
    "        else:\n",
    "            \n",
    "            display_board(board)\n",
    "                        \n",
    "            position=player_choice(board)\n",
    "            \n",
    "            place_marker(board, player2_marker, position)\n",
    "                        \n",
    "            if win_check(board,player2_marker):\n",
    "                \n",
    "                display_board(board)\n",
    "                \n",
    "                print('Congratulations, Player2 won the game!')\n",
    "                \n",
    "                game_on=False\n",
    "            \n",
    "            else:\n",
    "                \n",
    "                if full_board_check(board):\n",
    "                    \n",
    "                    display_board(board)\n",
    "                    \n",
    "                    print('The match is draw!')\n",
    "                    \n",
    "                    game_on=False\n",
    "                    \n",
    "                else:\n",
    "                    \n",
    "                    turn='Player 1'\n",
    "    \n",
    "    if not replay():\n",
    "        \n",
    "        print('Thank you for playing!')\n",
    "        \n",
    "        break"
   ]
  }
 ],
 "metadata": {
  "kernelspec": {
   "display_name": "Python 3",
   "language": "python",
   "name": "python3"
  },
  "language_info": {
   "codemirror_mode": {
    "name": "ipython",
    "version": 3
   },
   "file_extension": ".py",
   "mimetype": "text/x-python",
   "name": "python",
   "nbconvert_exporter": "python",
   "pygments_lexer": "ipython3",
   "version": "3.7.6"
  }
 },
 "nbformat": 4,
 "nbformat_minor": 4
}
